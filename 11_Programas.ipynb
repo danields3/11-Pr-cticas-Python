{
  "nbformat": 4,
  "nbformat_minor": 0,
  "metadata": {
    "colab": {
      "provenance": []
    },
    "kernelspec": {
      "name": "python3",
      "display_name": "Python 3"
    },
    "language_info": {
      "name": "python"
    }
  },
  "cells": [
    {
      "cell_type": "code",
      "source": [
        "#1\n",
        "num = int(input(\"Introduce un número: \"))\n",
        "\n",
        "if num == 0:\n",
        "\tprint (\"Este número es 0\")\n",
        "elif num%2 == 0:\n",
        "\tprint (\"Este número es par\")\n",
        "else:\n",
        "\tprint (\"Este número es impar\")"
      ],
      "metadata": {
        "id": "rb10zwNuPIPD"
      },
      "execution_count": null,
      "outputs": []
    },
    {
      "cell_type": "code",
      "source": [
        "#2\n",
        "nombre = input(\"¿Cuál es tu nombre?: \")\n",
        "adjetivo = input(\"Introduce un adjetivo: \")\n",
        "sustantivo1 = input(\"Introduce un sustantivo: \")\n",
        "sustantivo2 = input(\"Introduce otro sustantivo: \")\n",
        "\n",
        "print(\"Las rosas son \" + adjetivo)\n",
        "print(}sustantivo1 + \" es azúl\")\n",
        "print(\"no puedo iniciar mi día sin \", sustantivo2)"
      ],
      "metadata": {
        "id": "HQ2wMDbOettJ"
      },
      "execution_count": null,
      "outputs": []
    },
    {
      "cell_type": "code",
      "source": [
        "#3\n",
        "palabras =len(input(\"Introduce una historia: \").split())\n",
        "\n",
        "print(\"Tu historia tiene: \" + str(palabras) + \" palabras.\")"
      ],
      "metadata": {
        "id": "5PbkT0Zpexcz"
      },
      "execution_count": null,
      "outputs": []
    },
    {
      "cell_type": "code",
      "source": [
        "#4\n",
        "def validacion():\n",
        "\twhile True:\n",
        "\t\tname = input(\"Ponga su nombre: \")\n",
        "\t\ttry:\n",
        "\t\t\tname = int(name)\n",
        "\t\t\tprint(\"Ponga un nombre válido\")\n",
        "\t\texcept ValueError:\n",
        "\t\t\treturn name\n",
        "\t\tage = input(\"Ahora ponga su edad: \")\n",
        "\t\ttry:\n",
        "\t\t\tage = int(age)\n",
        "\t\t\treturn age\n",
        "\t\texcept ValueError:\n",
        "\t\t\tprint(\"Ponga un número válido\")\n",
        "validacion()"
      ],
      "metadata": {
        "id": "1Wp39AE0e2IE"
      },
      "execution_count": null,
      "outputs": []
    },
    {
      "cell_type": "code",
      "source": [
        "#5\n",
        "def fxn(stng): \n",
        "    \n",
        "    \n",
        "    oupt = stng[0] \n",
        "      \n",
        "    \n",
        "    for i in range(1, len(stng)): \n",
        "        if stng[i-1] == ' ': \n",
        "            \n",
        "            \n",
        "            oupt += stng[i] \n",
        "              \n",
        "    \n",
        "    oupt = oupt.upper() \n",
        "    return oupt \n",
        "  \n",
        "  \n",
        "inpt1 = \"As Soon As Possible\"\n",
        "  \n",
        "print(fxn(inpt1)) \n",
        "  \n",
        "inpt1 = \"Thank You\"\n",
        "  \n",
        "print(fxn(inpt1)) \n",
        "  \n",
        "inpt1 = \"Also Known As\"\n",
        "  \n",
        "print(fxn(inpt1)) "
      ],
      "metadata": {
        "id": "peI7s5Uye6EH"
      },
      "execution_count": null,
      "outputs": []
    },
    {
      "cell_type": "code",
      "source": [
        "#6\n",
        "import random\n",
        "\n",
        "while True:\n",
        "    aleatorio = random.randomrange(0, 3)\n",
        "    PC = \"\"\n",
        "    print(\"1. Piedra\")\n",
        "    print(\"2. Papel\")\n",
        "    print(\"3. Tijera\")\n",
        "    opc = int(input(\"Elige una opción\"))\n",
        "\n",
        "    if opc == 1:\n",
        "      user = \"Piedra\"\n",
        "    elif opc == 2:\n",
        "      user = \"Papel\"\n",
        "    elif opc == 3:\n",
        "      user = \"Tijera\"\n",
        "\n",
        "    print(\"Has elegido: \", user)\n",
        "\n",
        "    if aleatorio == 0:\n",
        "      pc = \"Piedra\"\n",
        "    elif aleatorio == 1:\n",
        "      pc = \"Papel\"\n",
        "    elif aleatorio == 2:\n",
        "      pc = \"Tijera\"\n",
        "    print(\"La máquina ha elegido: \", PC)\n",
        "    if PC == \"Piedra\" and user == \"Papel\":\n",
        "      print(\"Ganaste\")\n",
        "    elif PC == \"Papel\" and user == \"Tijera\":\n",
        "      print(\"Ganaste\")\n",
        "    elif PC == \"Tijera\" and user == \"Piedra\":\n",
        "      print(\"Ganaste\")\n",
        "    if PC == \"Papel\" and user == \"Piedra\":\n",
        "      print(\"Perdiste\")\n",
        "    elif PC == \"Tijera\" and user == \"Papel\":\n",
        "      print(\"Perdiste\")\n",
        "    elif PC == \"Piedra\" and user == \"Tijera\":\n",
        "      print(\"Ganaste\")\n",
        "    elif PC == user:\n",
        "      print(\"Empate\")"
      ],
      "metadata": {
        "id": "blA0ZAp_e88u"
      },
      "execution_count": null,
      "outputs": []
    },
    {
      "cell_type": "code",
      "source": [
        "#7\n",
        "import random\n",
        "\n",
        "numero = random.randomrange(1, 50)\n",
        "guess = int (input(\"Adivina el número entre 1 y 50: \"))\n",
        "\n",
        "while guess != numero:\n",
        "  if guess < numero:\n",
        "    print(\"El número a adivinar es mayor al que ingresaste, intenta de nuevo\")\n",
        "    guess = int(input(\"\\nGAdivina un numero entre 1 y 5: \"))\n",
        "  else: \n",
        "    print(\"El número a adivinar es menor al que ingresaste, intenta de nuevo\")\n",
        "    guess = int(input(\"\\nGAdivina un numero entre 1 y 5: \"))\n",
        "\n",
        "print(\"Haz adivinado el número correctamente\")"
      ],
      "metadata": {
        "id": "HduiCRKbe-k3"
      },
      "execution_count": null,
      "outputs": []
    },
    {
      "cell_type": "code",
      "source": [
        "#8\n",
        "p1 = input(\"Ponga la primer palabra: \")\n",
        "p2 = input(\"Ponga la segunda palabra: \")\n",
        "p3 = input(\"Ponga la tercer palabra: \")\n",
        "p4 = input(\"Ponga la cuarta palabra: \")\n",
        "p5 = input(\"Ponga la quinta palabra: \")\n",
        "\n",
        "if p1 == p1[::-1]:\n",
        "  print(p1 + \" es palíndromo\")\n",
        "else:\n",
        "  print(p1 + \" no es un palíndromoa\")\n",
        "if p2 == p2[::-1]:\n",
        "  print(p2 + \" es palíndromo\")\n",
        "else:\n",
        "  print(p2 + \" no es un palíndromoa\")\n",
        "if p3 == p3[::-1]:\n",
        "  print(p3 + \" es palíndromo\")\n",
        "else:\n",
        "  print(p13 + \" no es un palíndromoa\")\n",
        "if p4 == p4[::-1]:\n",
        "  print(p4 + \" es palíndromo\")\n",
        "else:\n",
        "  print(p4 + \" no es un palíndromoa\")\n",
        "if p5 == p5[::-1]:\n",
        "  print(p5 + \" es palíndromo\")\n",
        "else:\n",
        "  print(p5 + \" no es un palíndromoa\")"
      ],
      "metadata": {
        "id": "C79htRhIfAIf"
      },
      "execution_count": null,
      "outputs": []
    },
    {
      "cell_type": "code",
      "source": [
        "#9\n",
        "total = float(input(\"¿Cuál es el total de la factura?: $\"))\n",
        "personas = int(input(\"¿Cuántas personas son?: \"))\n",
        "propina18 = float(total * .18)\n",
        "propina20 = float(total * .20)\n",
        "propina25 = float(total * .25)\n",
        "\n",
        "print(\"La propina al 18% es de:\", propina18, \"a cada uno de las \", personas, \"les toca pagar:\",propina18/personas)\n",
        "print(\"La propina al 20% es de:\", propina20, \"a cada uno de las \", personas, \"les toca pagar:\", propina20/personas)\n",
        "print(\"La propina al 25% es de:\", propina25, \"a cada uno de las \", personas, \"les toca pagar:\", propina25/personas)\n",
        "\n",
        "print(\"\\nUsted decide cuánto pagar:D\")"
      ],
      "metadata": {
        "id": "r1_XJSOufBbl"
      },
      "execution_count": null,
      "outputs": []
    },
    {
      "cell_type": "code",
      "source": [
        "#10\n",
        "correo = input(\"¿Cuál es su correo electrónico?: \").strip()\n",
        "\n",
        "usuario = correo[:correo.index(\"@\")]\n",
        "\n",
        "dominio = correo[correo.index(\"@\")+1:]\n",
        "\n",
        "output = \"Tu nombre de usuario es '{}' y tu dominio es '{}'\".format(usuario, dominio)\n",
        "\n",
        "print(output)"
      ],
      "metadata": {
        "id": "O4CR2eTHfCnC"
      },
      "execution_count": null,
      "outputs": []
    },
    {
      "cell_type": "code",
      "source": [
        "#11\n",
        "opc = int(input(\"Holis, selecciona el número correspondiente a la canción para conocer la letra \\n1. Hotline Bling - Drake\\n2. Fall Away - Tweny One pilots\\n3. Volveré a Amar - Valentín Elizalde\\n4. Preda del Alma - Chalino Sánchez\\n5.Summer Love - One Direction\"))\n",
        "\n",
        "if opc == 1:\n",
        "  print(\"\\nYou used to call me on my cell phone\\nLate night when you need my love\\nCall me on my cell phone\\nLate night when you need my love\\nAnd I know when that hotline bling\\nThat can only mean one thing\\nI know when that hotline bling\\nThat can only mean one thing\")\n",
        "elif opc == 2:\n",
        "  print(\"\\nI disguise\\nAnd I will lie\\nAnd I will take my precious time\\nAs the days spent away\\nAs I stand in line\\nAnd I die as I wait as I wait on my crime\\nAnd I'll try to delay what you make of my life\\nBut I don't want your way\\nI want mine\")\n",
        "elif opc == 3:\n",
        "  print(\"\\nHe comprendido que quieres dejarme sin tu amor\\nVete cuando quieras con él, no te guardo rencor\\nHice todo lo imposible porque nunca\\nNunca te alejaras de mí\")\n",
        "elif opc == 4:\n",
        "  print(\"\\n¿Cómo quitarle el brillo a las estrellas?\\n¿Cómo impedir que corra el ancho río?\\n¿Cómo negar que sufre el pecho mío?\\n¿Cómo borrar de mi alma esta pasión?\")\n",
        "elif opc == 5:\n",
        "  print(\"\\nCan't believe you're packing your bags\\nTrying so hard not to cry\\nHad the best time and now it's the worst time\\nBut we have to say goodbye\")"
      ],
      "metadata": {
        "id": "12QmSbIkfEKb"
      },
      "execution_count": null,
      "outputs": []
    }
  ]
}